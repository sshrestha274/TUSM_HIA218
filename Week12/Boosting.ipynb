{
 "cells": [
  {
   "cell_type": "code",
   "execution_count": 1,
   "metadata": {},
   "outputs": [],
   "source": [
    "import pandas as pd\n",
    "import numpy as np\n",
    "import seaborn as sns\n",
    "\n",
    "from sklearn.model_selection import train_test_split\n",
    "\n",
    "from sklearn import linear_model, preprocessing\n",
    "\n",
    "from sklearn.preprocessing import LabelEncoder\n",
    "\n",
    "from sklearn.ensemble import GradientBoostingClassifier\n",
    "\n",
    "from sklearn.metrics import accuracy_score"
   ]
  },
  {
   "cell_type": "code",
   "execution_count": 2,
   "metadata": {},
   "outputs": [
    {
     "name": "stdout",
     "output_type": "stream",
     "text": [
      "<class 'pandas.core.frame.DataFrame'>\n",
      "Index: 5000 entries, 71328 to 76569\n",
      "Data columns (total 5 columns):\n",
      " #   Column             Non-Null Count  Dtype  \n",
      "---  ------             --------------  -----  \n",
      " 0   age                4806 non-null   float64\n",
      " 1   bmi                4820 non-null   float64\n",
      " 2   gender             4999 non-null   object \n",
      " 3   height             4916 non-null   float64\n",
      " 4   diabetes_mellitus  5000 non-null   int64  \n",
      "dtypes: float64(3), int64(1), object(1)\n",
      "memory usage: 234.4+ KB\n"
     ]
    }
   ],
   "source": [
    "data_raw = pd.read_csv(\"TrainingWiDS2021.csv\")\n",
    "data_raw = data_raw.sample(n=5000, random_state=42)\n",
    "data_selected = data_raw[[\"age\", \"bmi\", \"gender\", \"height\", \"diabetes_mellitus\"]]\n",
    "data_selected.info()"
   ]
  },
  {
   "cell_type": "code",
   "execution_count": 3,
   "metadata": {},
   "outputs": [],
   "source": [
    "# Note that sklearn decision tree does not work with object data. \n",
    "\n",
    "# need to encode and convert this to categorical\n",
    "\n",
    "# I was running into an issue where it was being encoded to 0 and 1 but they were still object type variable which will give you an error\n",
    "\n",
    "# always check the error messages and go back to fix your code\n",
    "le= LabelEncoder()\n",
    "\n",
    "# also note if you run this line twice it will give ou an error"
   ]
  },
  {
   "cell_type": "code",
   "execution_count": 4,
   "metadata": {},
   "outputs": [],
   "source": [
    "data_selected.loc[:,\"gender\"] = le.fit_transform(data_selected[\"gender\"])\n",
    "\n",
    "data_selected.loc[:,\"gender\"] = data_selected[\"gender\"].astype(\"category\")"
   ]
  },
  {
   "cell_type": "code",
   "execution_count": 5,
   "metadata": {},
   "outputs": [],
   "source": [
    "data_final =data_selected[(data_selected.age>=20) & (data_selected.age<=65) & \n",
    "                          (data_selected.bmi>=25) & (data_selected.bmi<45) &\n",
    "                          (data_selected.height>100) & (data_selected.height<200)].dropna()"
   ]
  },
  {
   "cell_type": "code",
   "execution_count": 6,
   "metadata": {},
   "outputs": [
    {
     "data": {
      "text/plain": [
       "age                  0\n",
       "bmi                  0\n",
       "gender               0\n",
       "height               0\n",
       "diabetes_mellitus    0\n",
       "dtype: int64"
      ]
     },
     "execution_count": 6,
     "metadata": {},
     "output_type": "execute_result"
    }
   ],
   "source": [
    "data_final.isna().sum()"
   ]
  },
  {
   "cell_type": "code",
   "execution_count": 7,
   "metadata": {},
   "outputs": [],
   "source": [
    "# Now lets create test train split\n",
    "y = data_final[\"diabetes_mellitus\"]\n",
    "X = data_final.drop(columns=[\"diabetes_mellitus\"])\n",
    "\n",
    "X_train, X_test, y_train, y_test = train_test_split(X, y, test_size=0.3, random_state=99)"
   ]
  },
  {
   "cell_type": "code",
   "execution_count": 8,
   "metadata": {},
   "outputs": [
    {
     "name": "stdout",
     "output_type": "stream",
     "text": [
      "Gradient Boosting Classifier:\n",
      "Accuracy: 0.7714285714285715\n"
     ]
    }
   ],
   "source": [
    "gb_clf = GradientBoostingClassifier(n_estimators=100, random_state=99)\n",
    "\n",
    "# Train the model\n",
    "gb_clf.fit(X_train, y_train)\n",
    "\n",
    "# Predict on the testing data\n",
    "y_pred_gb = gb_clf.predict(X_test)\n",
    "\n",
    "# Calculate accuracy\n",
    "accuracy_gb = accuracy_score(y_test, y_pred_gb)\n",
    "\n",
    "# Display accuracy and classification report\n",
    "print(\"Gradient Boosting Classifier:\")\n",
    "print(\"Accuracy:\", accuracy_gb)\n"
   ]
  }
 ],
 "metadata": {
  "kernelspec": {
   "display_name": "Python 3",
   "language": "python",
   "name": "python3"
  },
  "language_info": {
   "codemirror_mode": {
    "name": "ipython",
    "version": 3
   },
   "file_extension": ".py",
   "mimetype": "text/x-python",
   "name": "python",
   "nbconvert_exporter": "python",
   "pygments_lexer": "ipython3",
   "version": "3.11.4"
  }
 },
 "nbformat": 4,
 "nbformat_minor": 2
}
